{
 "cells": [
  {
   "cell_type": "code",
   "execution_count": 16,
   "metadata": {},
   "outputs": [
    {
     "name": "stdout",
     "output_type": "stream",
     "text": [
      "Enter the number of friends joining (including you):\n"
     ]
    },
    {
     "ename": "ValueError",
     "evalue": "invalid literal for int() with base 10: 'jan'",
     "output_type": "error",
     "traceback": [
      "\u001b[1;31m---------------------------------------------------------------------------\u001b[0m",
      "\u001b[1;31mValueError\u001b[0m                                Traceback (most recent call last)",
      "\u001b[1;32m~\\AppData\\Local\\Temp/ipykernel_22688/3479244482.py\u001b[0m in \u001b[0;36m<module>\u001b[1;34m\u001b[0m\n\u001b[0;32m      6\u001b[0m     \u001b[0mprint\u001b[0m\u001b[1;33m(\u001b[0m\u001b[1;34m\"No one is joining for the party\"\u001b[0m\u001b[1;33m)\u001b[0m\u001b[1;33m\u001b[0m\u001b[1;33m\u001b[0m\u001b[0m\n\u001b[0;32m      7\u001b[0m \u001b[1;32melse\u001b[0m\u001b[1;33m:\u001b[0m\u001b[1;33m\u001b[0m\u001b[1;33m\u001b[0m\u001b[0m\n\u001b[1;32m----> 8\u001b[1;33m     \u001b[0mrachunek\u001b[0m \u001b[1;33m=\u001b[0m \u001b[0mint\u001b[0m\u001b[1;33m(\u001b[0m\u001b[0minput\u001b[0m\u001b[1;33m(\u001b[0m\u001b[1;33m)\u001b[0m\u001b[1;33m)\u001b[0m\u001b[1;33m\u001b[0m\u001b[1;33m\u001b[0m\u001b[0m\n\u001b[0m\u001b[0;32m      9\u001b[0m     \u001b[0mzmienna\u001b[0m \u001b[1;33m=\u001b[0m \u001b[0mrachunek\u001b[0m \u001b[1;33m/\u001b[0m \u001b[0milosci_osob\u001b[0m\u001b[1;33m\u001b[0m\u001b[1;33m\u001b[0m\u001b[0m\n\u001b[0;32m     10\u001b[0m \u001b[1;33m\u001b[0m\u001b[0m\n",
      "\u001b[1;31mValueError\u001b[0m: invalid literal for int() with base 10: 'jan'"
     ]
    }
   ],
   "source": [
    "# Wczytuje ilosc osob\n",
    "\n",
    "print(\"Enter the number of friends joining (including you):\")\n",
    "ilosci_osob = int(input())\n",
    "if ilosci_osob <= 0:\n",
    "    print(\"No one is joining for the party\")\n",
    "else:\n",
    "    rachunek = int(input())\n",
    "    zmienna = rachunek / ilosci_osob\n",
    "\n",
    "\n",
    "if ilosci_osob > 0:\n",
    "    print(\"Enter the name of every friend (including you), each on a new line:\")\n",
    "# podaje imiona osob\n",
    "enter_names = []\n",
    "while len(enter_names) < ilosci_osob:\n",
    "    grade_input = [item for item in input().split()]\n",
    "    if grade_input == ilosci_osob:\n",
    "        break\n",
    "    grade = grade_input\n",
    "    enter_names.append(grade)\n",
    "\n",
    "\n",
    "flat_list = [item for sublist in enter_names for item in sublist]\n",
    "\n",
    "\n",
    "s = flat_list\n",
    "listToStr = ' '.join([str(elem) for elem in s])\n",
    "\n",
    "\n",
    "dictOfWords = { i : zmienna for i in flat_list }\n",
    "if ilosci_osob <= 0:\n",
    "    print()\n",
    "else:\n",
    "    print(dictOfWords)"
   ]
  },
  {
   "cell_type": "code",
   "execution_count": 35,
   "metadata": {},
   "outputs": [
    {
     "name": "stdout",
     "output_type": "stream",
     "text": [
      "Enter the number of friends joining (including you):\n",
      "Enter the name of every friend (including you), each on a new line:\n",
      "Enter the total bill value:\n",
      "{'mikolaj': 2277.5, 'ani': 2277.5}\n"
     ]
    }
   ],
   "source": [
    "# Wczytuje ilosc osob\n",
    "print(\"Enter the number of friends joining (including you):\")\n",
    "ilosci_osob = int(input())\n",
    "if ilosci_osob <= 0:\n",
    "    print(\"No one is joining for the party\")\n",
    "\n",
    "\n",
    "if ilosci_osob > 0:\n",
    "    print(\"Enter the name of every friend (including you), each on a new line:\")\n",
    "\n",
    "\n",
    "# podaje imiona osob\n",
    "enter_names = []\n",
    "while len(enter_names) < ilosci_osob:\n",
    "    grade_input = [item for item in input().split()]\n",
    "    if grade_input == ilosci_osob:\n",
    "        break\n",
    "    grade = grade_input\n",
    "    enter_names.append(grade)\n",
    "\n",
    "\n",
    "if ilosci_osob > 0 and len(enter_names) == ilosci_osob:\n",
    "    print(\"Enter the total bill value:\")\n",
    "    try:\n",
    "        rachunek = int(input())\n",
    "        zmienna = rachunek / ilosci_osob\n",
    "    except ZeroDivisionError as e:\n",
    "        print(\"No one is joining for the party\")\n",
    "\n",
    "\n",
    "# splaszczenie listy\n",
    "flat_list = [item for sublist in enter_names for item in sublist]\n",
    "\n",
    "\n",
    "s = flat_list\n",
    "listToStr = ' '.join([str(elem) for elem in s])\n",
    "\n",
    "\n",
    "dictOfWords = { i : round(zmienna, 2) for i in flat_list }\n",
    "if ilosci_osob <= 0:\n",
    "    print()\n",
    "else:\n",
    "    print(dictOfWords)\n"
   ]
  },
  {
   "cell_type": "code",
   "execution_count": null,
   "metadata": {},
   "outputs": [],
   "source": []
  }
 ],
 "metadata": {
  "interpreter": {
   "hash": "7b0470897870f91c1d27568bf8346e85da46866cae942d918bd7f2b2e94e9a5a"
  },
  "kernelspec": {
   "display_name": "Python 3.10.0 64-bit",
   "language": "python",
   "name": "python3"
  },
  "language_info": {
   "codemirror_mode": {
    "name": "ipython",
    "version": 3
   },
   "file_extension": ".py",
   "mimetype": "text/x-python",
   "name": "python",
   "nbconvert_exporter": "python",
   "pygments_lexer": "ipython3",
   "version": "3.10.0"
  },
  "orig_nbformat": 4
 },
 "nbformat": 4,
 "nbformat_minor": 2
}
