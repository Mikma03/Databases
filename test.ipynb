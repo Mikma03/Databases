{
 "cells": [
  {
   "cell_type": "code",
   "execution_count": 247,
   "metadata": {},
   "outputs": [
    {
     "name": "stdout",
     "output_type": "stream",
     "text": [
      "Enter the number of friends joining (including you):\n",
      "No one is joining for the party\n",
      "\n"
     ]
    }
   ],
   "source": [
    "# Wczytuje ilosc osob\n",
    "def run_example():\n",
    "    print(\"Enter the number of friends joining (including you):\")\n",
    "    ilosci_osob = int(input())\n",
    "    if ilosci_osob <= 0:\n",
    "        print(\"No one is joining for the party\")\n",
    "    else:\n",
    "        rachunek = int(input())\n",
    "        zmienna = rachunek / ilosci_osob\n",
    "\n",
    "\n",
    "    if ilosci_osob > 0:\n",
    "        print(\"Enter the name of every friend (including you), each on a new line:\")\n",
    "    # podaje imiona osob\n",
    "    enter_names = []\n",
    "    while len(enter_names) < ilosci_osob:\n",
    "        grade_input = [item for item in input().split()]\n",
    "        if grade_input == ilosci_osob:\n",
    "            break\n",
    "        grade = grade_input\n",
    "        enter_names.append(grade)\n",
    "\n",
    "\n",
    "    flat_list = [item for sublist in enter_names for item in sublist]\n",
    "\n",
    "\n",
    "    s = flat_list\n",
    "    listToStr = ' '.join([str(elem) for elem in s])\n",
    "\n",
    "\n",
    "    dictOfWords = { i : zmienna for i in flat_list }\n",
    "    if ilosci_osob <= 0:\n",
    "        print()\n",
    "    else:\n",
    "        print(dictOfWords)\n",
    "\n",
    "if __name__ == \"__main__\":\n",
    "    run_example()"
   ]
  }
 ],
 "metadata": {
  "interpreter": {
   "hash": "7b0470897870f91c1d27568bf8346e85da46866cae942d918bd7f2b2e94e9a5a"
  },
  "kernelspec": {
   "display_name": "Python 3.10.0 64-bit",
   "language": "python",
   "name": "python3"
  },
  "language_info": {
   "codemirror_mode": {
    "name": "ipython",
    "version": 3
   },
   "file_extension": ".py",
   "mimetype": "text/x-python",
   "name": "python",
   "nbconvert_exporter": "python",
   "pygments_lexer": "ipython3",
   "version": "3.10.0"
  },
  "orig_nbformat": 4
 },
 "nbformat": 4,
 "nbformat_minor": 2
}
